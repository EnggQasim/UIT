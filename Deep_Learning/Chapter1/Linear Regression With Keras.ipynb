{
 "cells": [
  {
   "cell_type": "code",
   "execution_count": 1,
   "metadata": {},
   "outputs": [
    {
     "name": "stderr",
     "output_type": "stream",
     "text": [
      "Using TensorFlow backend.\n"
     ]
    }
   ],
   "source": [
    "from keras.models import Sequential\n",
    "from keras.layers import Dense \n",
    "from keras.optimizers import Adam, SGD\n",
    "\n",
    "%matplotlib inline\n",
    "import matplotlib.pyplot as plt\n",
    "import numpy as np\n",
    "import pandas as pd"
   ]
  },
  {
   "cell_type": "code",
   "execution_count": 2,
   "metadata": {},
   "outputs": [],
   "source": [
    "df=pd.read_csv('data/weight-height.csv')"
   ]
  },
  {
   "cell_type": "code",
   "execution_count": 3,
   "metadata": {},
   "outputs": [],
   "source": [
    "X=df[['Height']].values\n",
    "y_true=df[['Weight']].values"
   ]
  },
  {
   "cell_type": "code",
   "execution_count": 4,
   "metadata": {},
   "outputs": [
    {
     "data": {
      "text/plain": [
       "array([[73.84701702],\n",
       "       [68.78190405],\n",
       "       [74.11010539],\n",
       "       ...,\n",
       "       [63.86799221],\n",
       "       [69.03424313],\n",
       "       [61.94424588]])"
      ]
     },
     "execution_count": 4,
     "metadata": {},
     "output_type": "execute_result"
    }
   ],
   "source": [
    "X"
   ]
  },
  {
   "cell_type": "code",
   "execution_count": 5,
   "metadata": {},
   "outputs": [
    {
     "data": {
      "text/plain": [
       "(10000, 1)"
      ]
     },
     "execution_count": 5,
     "metadata": {},
     "output_type": "execute_result"
    }
   ],
   "source": [
    "X.shape"
   ]
  },
  {
   "cell_type": "code",
   "execution_count": 1,
   "metadata": {},
   "outputs": [
    {
     "ename": "NameError",
     "evalue": "name 'Sequential' is not defined",
     "output_type": "error",
     "traceback": [
      "\u001b[0;31m---------------------------------------------------------------------------\u001b[0m",
      "\u001b[0;31mNameError\u001b[0m                                 Traceback (most recent call last)",
      "\u001b[0;32m<ipython-input-1-7c3d3d51c61a>\u001b[0m in \u001b[0;36m<module>\u001b[0;34m\u001b[0m\n\u001b[0;32m----> 1\u001b[0;31m \u001b[0mmodel\u001b[0m \u001b[0;34m=\u001b[0m \u001b[0mSequential\u001b[0m\u001b[0;34m(\u001b[0m\u001b[0;34m)\u001b[0m\u001b[0;34m\u001b[0m\u001b[0;34m\u001b[0m\u001b[0m\n\u001b[0m\u001b[1;32m      2\u001b[0m \u001b[0mmodel\u001b[0m\u001b[0;34m.\u001b[0m\u001b[0madd\u001b[0m\u001b[0;34m(\u001b[0m\u001b[0mDense\u001b[0m\u001b[0;34m(\u001b[0m\u001b[0;36m1\u001b[0m\u001b[0;34m,\u001b[0m \u001b[0minput_shape\u001b[0m\u001b[0;34m=\u001b[0m\u001b[0;34m(\u001b[0m\u001b[0;36m1\u001b[0m\u001b[0;34m,\u001b[0m\u001b[0;34m)\u001b[0m\u001b[0;34m)\u001b[0m\u001b[0;34m)\u001b[0m\u001b[0;34m\u001b[0m\u001b[0;34m\u001b[0m\u001b[0m\n",
      "\u001b[0;31mNameError\u001b[0m: name 'Sequential' is not defined"
     ]
    }
   ],
   "source": [
    "model = Sequential()\n",
    "model.add(Dense(1, input_shape=(1,)))"
   ]
  },
  {
   "cell_type": "code",
   "execution_count": 7,
   "metadata": {},
   "outputs": [
    {
     "name": "stdout",
     "output_type": "stream",
     "text": [
      "_________________________________________________________________\n",
      "Layer (type)                 Output Shape              Param #   \n",
      "=================================================================\n",
      "dense_1 (Dense)              (None, 1)                 2         \n",
      "=================================================================\n",
      "Total params: 2\n",
      "Trainable params: 2\n",
      "Non-trainable params: 0\n",
      "_________________________________________________________________\n"
     ]
    }
   ],
   "source": [
    "model.summary()"
   ]
  },
  {
   "cell_type": "code",
   "execution_count": 8,
   "metadata": {},
   "outputs": [],
   "source": [
    "model.compile(Adam(lr=0.8), 'mean_squared_error')"
   ]
  },
  {
   "cell_type": "code",
   "execution_count": 9,
   "metadata": {},
   "outputs": [
    {
     "name": "stdout",
     "output_type": "stream",
     "text": [
      "WARNING:tensorflow:From /home/muhammadqasim/anaconda3/lib/python3.7/site-packages/tensorflow/python/ops/math_ops.py:3066: to_int32 (from tensorflow.python.ops.math_ops) is deprecated and will be removed in a future version.\n",
      "Instructions for updating:\n",
      "Use tf.cast instead.\n",
      "Epoch 1/40\n",
      "10000/10000 [==============================] - 1s 138us/step - loss: 1455.3124\n",
      "Epoch 2/40\n",
      "10000/10000 [==============================] - 0s 15us/step - loss: 573.7312\n",
      "Epoch 3/40\n",
      "10000/10000 [==============================] - 0s 16us/step - loss: 538.8814\n",
      "Epoch 4/40\n",
      "10000/10000 [==============================] - 0s 16us/step - loss: 508.7778\n",
      "Epoch 5/40\n",
      "10000/10000 [==============================] - 0s 17us/step - loss: 489.5621\n",
      "Epoch 6/40\n",
      "10000/10000 [==============================] - 0s 15us/step - loss: 419.0219\n",
      "Epoch 7/40\n",
      "10000/10000 [==============================] - 0s 17us/step - loss: 375.4745\n",
      "Epoch 8/40\n",
      "10000/10000 [==============================] - 0s 16us/step - loss: 351.7013\n",
      "Epoch 9/40\n",
      "10000/10000 [==============================] - 0s 16us/step - loss: 321.3100\n",
      "Epoch 10/40\n",
      "10000/10000 [==============================] - 0s 23us/step - loss: 304.2571\n",
      "Epoch 11/40\n",
      "10000/10000 [==============================] - 0s 25us/step - loss: 281.6929\n",
      "Epoch 12/40\n",
      "10000/10000 [==============================] - 0s 22us/step - loss: 254.6657\n",
      "Epoch 13/40\n",
      "10000/10000 [==============================] - 0s 24us/step - loss: 236.2240\n",
      "Epoch 14/40\n",
      "10000/10000 [==============================] - 0s 23us/step - loss: 223.1817\n",
      "Epoch 15/40\n",
      "10000/10000 [==============================] - 0s 18us/step - loss: 223.2159\n",
      "Epoch 16/40\n",
      "10000/10000 [==============================] - 0s 15us/step - loss: 215.6539\n",
      "Epoch 17/40\n",
      "10000/10000 [==============================] - 0s 17us/step - loss: 196.5397\n",
      "Epoch 18/40\n",
      "10000/10000 [==============================] - 0s 23us/step - loss: 194.3200\n",
      "Epoch 19/40\n",
      "10000/10000 [==============================] - 0s 26us/step - loss: 184.6873\n",
      "Epoch 20/40\n",
      "10000/10000 [==============================] - 0s 25us/step - loss: 184.4884\n",
      "Epoch 21/40\n",
      "10000/10000 [==============================] - 0s 25us/step - loss: 186.3141\n",
      "Epoch 22/40\n",
      "10000/10000 [==============================] - 0s 24us/step - loss: 193.8356\n",
      "Epoch 23/40\n",
      "10000/10000 [==============================] - 0s 25us/step - loss: 186.3994\n",
      "Epoch 24/40\n",
      "10000/10000 [==============================] - 0s 25us/step - loss: 168.8641\n",
      "Epoch 25/40\n",
      "10000/10000 [==============================] - 0s 24us/step - loss: 178.5568\n",
      "Epoch 26/40\n",
      "10000/10000 [==============================] - 0s 15us/step - loss: 180.5031\n",
      "Epoch 27/40\n",
      "10000/10000 [==============================] - 0s 16us/step - loss: 176.1740\n",
      "Epoch 28/40\n",
      "10000/10000 [==============================] - 0s 16us/step - loss: 182.8110\n",
      "Epoch 29/40\n",
      "10000/10000 [==============================] - 0s 16us/step - loss: 174.2691\n",
      "Epoch 30/40\n",
      "10000/10000 [==============================] - 0s 19us/step - loss: 178.2303\n",
      "Epoch 31/40\n",
      "10000/10000 [==============================] - 0s 25us/step - loss: 178.5412\n",
      "Epoch 32/40\n",
      "10000/10000 [==============================] - 0s 21us/step - loss: 169.9512\n",
      "Epoch 33/40\n",
      "10000/10000 [==============================] - 0s 23us/step - loss: 166.6213\n",
      "Epoch 34/40\n",
      "10000/10000 [==============================] - 0s 16us/step - loss: 184.6226\n",
      "Epoch 35/40\n",
      "10000/10000 [==============================] - 0s 16us/step - loss: 170.1297\n",
      "Epoch 36/40\n",
      "10000/10000 [==============================] - 0s 17us/step - loss: 192.2653\n",
      "Epoch 37/40\n",
      "10000/10000 [==============================] - 0s 15us/step - loss: 178.8691\n",
      "Epoch 38/40\n",
      "10000/10000 [==============================] - 0s 23us/step - loss: 175.3754\n",
      "Epoch 39/40\n",
      "10000/10000 [==============================] - 0s 22us/step - loss: 179.3733\n",
      "Epoch 40/40\n",
      "10000/10000 [==============================] - 0s 20us/step - loss: 174.0793\n"
     ]
    },
    {
     "data": {
      "text/plain": [
       "<keras.callbacks.History at 0x7f76df7b4a58>"
      ]
     },
     "execution_count": 9,
     "metadata": {},
     "output_type": "execute_result"
    }
   ],
   "source": [
    "model.fit(X,y_true, epochs=40)"
   ]
  },
  {
   "cell_type": "code",
   "execution_count": 10,
   "metadata": {},
   "outputs": [],
   "source": [
    "y_pred=model.predict(X)"
   ]
  },
  {
   "cell_type": "code",
   "execution_count": 11,
   "metadata": {},
   "outputs": [
    {
     "data": {
      "text/plain": [
       "array([[217.57034 ],\n",
       "       [178.7667  ],\n",
       "       [219.5859  ],\n",
       "       ...,\n",
       "       [141.12137 ],\n",
       "       [180.6998  ],\n",
       "       [126.383575]], dtype=float32)"
      ]
     },
     "execution_count": 11,
     "metadata": {},
     "output_type": "execute_result"
    }
   ],
   "source": [
    "y_pred"
   ]
  },
  {
   "cell_type": "code",
   "execution_count": 12,
   "metadata": {},
   "outputs": [
    {
     "data": {
      "text/plain": [
       "[<matplotlib.lines.Line2D at 0x7f76dc448f60>]"
      ]
     },
     "execution_count": 12,
     "metadata": {},
     "output_type": "execute_result"
    },
    {
     "data": {
      "image/png": "[encoded data removed]",
      "text/plain": [
       "<Figure size 432x288 with 1 Axes>"
      ]
     },
     "metadata": {
      "needs_background": "light"
     },
     "output_type": "display_data"
    }
   ],
   "source": [
    "df.plot(kind='scatter',\n",
    "       x='Height',\n",
    "       y='Weight', title='Weight and Height in adults')\n",
    "plt.plot(X, y_pred, color='red', linewidth=3)"
   ]
  },
  {
   "cell_type": "code",
   "execution_count": 13,
   "metadata": {},
   "outputs": [],
   "source": [
    "w,b=model.get_weights()"
   ]
  },
  {
   "cell_type": "code",
   "execution_count": 14,
   "metadata": {},
   "outputs": [
    {
     "data": {
      "text/plain": [
       "array([[7.6609697]], dtype=float32)"
      ]
     },
     "execution_count": 14,
     "metadata": {},
     "output_type": "execute_result"
    }
   ],
   "source": [
    "w"
   ]
  },
  {
   "cell_type": "code",
   "execution_count": 15,
   "metadata": {},
   "outputs": [
    {
     "data": {
      "text/plain": [
       "array([-348.1694], dtype=float32)"
      ]
     },
     "execution_count": 15,
     "metadata": {},
     "output_type": "execute_result"
    }
   ],
   "source": [
    "b"
   ]
  },
  {
   "cell_type": "code",
   "execution_count": 16,
   "metadata": {},
   "outputs": [
    {
     "data": {
      "text/plain": [
       "10000"
      ]
     },
     "execution_count": 16,
     "metadata": {},
     "output_type": "execute_result"
    }
   ],
   "source": [
    "len(X)"
   ]
  },
  {
   "cell_type": "code",
   "execution_count": 18,
   "metadata": {},
   "outputs": [
    {
     "data": {
      "text/plain": [
       "array([[1184.0245]], dtype=float32)"
      ]
     },
     "execution_count": 18,
     "metadata": {},
     "output_type": "execute_result"
    }
   ],
   "source": [
    "model.predict([[200]])"
   ]
  },
  {
   "cell_type": "code",
   "execution_count": null,
   "metadata": {},
   "outputs": [],
   "source": []
  }
 ],
 "metadata": {
  "kernelspec": {
   "display_name": "Python 3",
   "language": "python",
   "name": "python3"
  },
  "language_info": {
   "codemirror_mode": {
    "name": "ipython",
    "version": 3
   },
   "file_extension": ".py",
   "mimetype": "text/x-python",
   "name": "python",
   "nbconvert_exporter": "python",
   "pygments_lexer": "ipython3",
   "version": "3.7.1"
  }
 },
 "nbformat": 4,
 "nbformat_minor": 2
}
