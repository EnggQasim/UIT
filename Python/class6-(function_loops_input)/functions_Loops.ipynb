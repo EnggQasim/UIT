{
 "cells": [
  {
   "cell_type": "markdown",
   "metadata": {},
   "source": [
    "# Topics\n",
    "- Functions\n",
    "    - Required Arguments\n",
    "    - Optional Arguments\n",
    "    - Return\n",
    "    - Non Return\n",
    "    - Defualt Arguments\n",
    "    - postional Arguments\n",
    "    - KeyWord Arguments\n",
    "    - Argument with List\n",
    "    - Argument with Dictionary \n",
    "    - pre defineFunctions\n",
    "    - User defineFunctions\n",
    "- Loop\n",
    "    - for\n",
    "    - while\n",
    "    - do while\n",
    "- input"
   ]
  },
  {
   "cell_type": "markdown",
   "metadata": {},
   "source": [
    "Function: Set of instruction define in block is called function."
   ]
  },
  {
   "cell_type": "markdown",
   "metadata": {},
   "source": [
    "Example set of instructions"
   ]
  },
  {
   "cell_type": "code",
   "execution_count": 1,
   "metadata": {},
   "outputs": [
    {
     "name": "stdout",
     "output_type": "stream",
     "text": [
      "My Name is Qasim\n",
      "Education: BSCS\n",
      "Nationality: Pakistani\n"
     ]
    }
   ],
   "source": [
    "print(\"My Name is Qasim\")\n",
    "print(\"Education: BSCS\")\n",
    "print(\"Nationality: Pakistani\")"
   ]
  },
  {
   "cell_type": "code",
   "execution_count": 2,
   "metadata": {},
   "outputs": [
    {
     "ename": "NameError",
     "evalue": "name 'TecherInfo' is not defined",
     "output_type": "error",
     "traceback": [
      "\u001b[1;31m---------------------------------------------------------------------------\u001b[0m",
      "\u001b[1;31mNameError\u001b[0m                                 Traceback (most recent call last)",
      "\u001b[1;32m<ipython-input-2-2c1f8e3f6d93>\u001b[0m in \u001b[0;36m<module>\u001b[1;34m()\u001b[0m\n\u001b[1;32m----> 1\u001b[1;33m \u001b[0mTecherInfo\u001b[0m\u001b[1;33m(\u001b[0m\u001b[1;33m)\u001b[0m\u001b[1;33m\u001b[0m\u001b[0m\n\u001b[0m",
      "\u001b[1;31mNameError\u001b[0m: name 'TecherInfo' is not defined"
     ]
    }
   ],
   "source": [
    "TecherInfo()"
   ]
  },
  {
   "cell_type": "markdown",
   "metadata": {},
   "source": [
    "- Defualt Function\n",
    "- Non Return Function"
   ]
  },
  {
   "cell_type": "code",
   "execution_count": 3,
   "metadata": {},
   "outputs": [
    {
     "name": "stdout",
     "output_type": "stream",
     "text": [
      "UniversityName: UIT\n",
      "My Name is Muhammad Qasim\n",
      "Education: BSCS\n",
      "Nationality: Pakistani\n"
     ]
    }
   ],
   "source": [
    "def TeacherInfo():\n",
    "    print(\"UniversityName: UIT\")\n",
    "    print(\"My Name is Muhammad Qasim\")\n",
    "    print(\"Education: BSCS\")\n",
    "    print(\"Nationality: Pakistani\")\n",
    "\n",
    "TeacherInfo()"
   ]
  },
  {
   "cell_type": "code",
   "execution_count": 4,
   "metadata": {},
   "outputs": [
    {
     "name": "stdout",
     "output_type": "stream",
     "text": [
      "UniversityName: UIT\n",
      "My Name is Muhammad Qasim\n",
      "Education: BSCS\n",
      "Nationality: Pakistani\n",
      "UniversityName: UIT\n",
      "My Name is Muhammad Qasim\n",
      "Education: BSCS\n",
      "Nationality: Pakistani\n"
     ]
    }
   ],
   "source": [
    "TeacherInfo()\n",
    "TeacherInfo()"
   ]
  },
  {
   "cell_type": "code",
   "execution_count": null,
   "metadata": {},
   "outputs": [],
   "source": [
    "%time TeacherInfo()"
   ]
  },
  {
   "cell_type": "code",
   "execution_count": 5,
   "metadata": {},
   "outputs": [
    {
     "name": "stdout",
     "output_type": "stream",
     "text": [
      "UniversityName: UIT\n",
      "My Name is Muhammad Qasim\n",
      "Education: BSCS\n",
      "Nationality: Pakistani\n",
      "None\n"
     ]
    }
   ],
   "source": [
    "x=TeacherInfo()\n",
    "print(x)"
   ]
  },
  {
   "cell_type": "code",
   "execution_count": 6,
   "metadata": {},
   "outputs": [
    {
     "name": "stdout",
     "output_type": "stream",
     "text": [
      "pakistan \n",
      " we are pakistani \n",
      " we love our country!\n"
     ]
    }
   ],
   "source": [
    "def abc():\n",
    "    return \"pakistan \\n we are pakistani \\n we love our country!\"\n",
    "\n",
    "x = abc()\n",
    "print(x)"
   ]
  },
  {
   "cell_type": "markdown",
   "metadata": {},
   "source": [
    "- Variabl Scope\n",
    " - local\n",
    " - global"
   ]
  },
  {
   "cell_type": "code",
   "execution_count": 7,
   "metadata": {},
   "outputs": [
    {
     "name": "stdout",
     "output_type": "stream",
     "text": [
      "UIT\n",
      "Muhammad   UIT\n"
     ]
    },
    {
     "ename": "NameError",
     "evalue": "name 'fname' is not defined",
     "output_type": "error",
     "traceback": [
      "\u001b[1;31m---------------------------------------------------------------------------\u001b[0m",
      "\u001b[1;31mNameError\u001b[0m                                 Traceback (most recent call last)",
      "\u001b[1;32m<ipython-input-7-32a3d4c8b580>\u001b[0m in \u001b[0;36m<module>\u001b[1;34m()\u001b[0m\n\u001b[0;32m      9\u001b[0m \u001b[1;33m\u001b[0m\u001b[0m\n\u001b[0;32m     10\u001b[0m \u001b[0mfullName\u001b[0m\u001b[1;33m(\u001b[0m\u001b[1;33m)\u001b[0m\u001b[1;33m\u001b[0m\u001b[0m\n\u001b[1;32m---> 11\u001b[1;33m \u001b[0mprint\u001b[0m\u001b[1;33m(\u001b[0m\u001b[0mfname\u001b[0m\u001b[1;33m)\u001b[0m\u001b[1;33m\u001b[0m\u001b[0m\n\u001b[0m",
      "\u001b[1;31mNameError\u001b[0m: name 'fname' is not defined"
     ]
    }
   ],
   "source": [
    "Uni = 'UIT' # global\n",
    "\n",
    "print(Uni)\n",
    "\n",
    "def fullName():\n",
    "    fname=\"Muhammad\" # local\n",
    "    lname=\"Qasim\" # local\n",
    "    print(fname,\" \",Uni)\n",
    "\n",
    "fullName()\n",
    "print(fname)"
   ]
  },
  {
   "cell_type": "markdown",
   "metadata": {},
   "source": [
    "- Argument With Required"
   ]
  },
  {
   "cell_type": "code",
   "execution_count": 8,
   "metadata": {},
   "outputs": [
    {
     "name": "stdout",
     "output_type": "stream",
     "text": [
      "UniversityName: UIT\n",
      "My Name is Zia Khan\n",
      "Education: Master\n",
      "Nationality: Pakistan\n"
     ]
    }
   ],
   "source": [
    "def Teacher(name, education, nationality):\n",
    "    print(\"UniversityName: UIT\")\n",
    "    print(\"My Name is \"+name)\n",
    "    print(\"Education: \"+education)\n",
    "    print(\"Nationality: \"+nationality)\n",
    "    \n",
    "Teacher(\"Zia Khan\",\"Master\",\"Pakistan\")"
   ]
  },
  {
   "cell_type": "code",
   "execution_count": 9,
   "metadata": {},
   "outputs": [
    {
     "name": "stdout",
     "output_type": "stream",
     "text": [
      "UniversityName: UIT\n",
      "My Name is Muhammad Qasim\n",
      "Education: BSCS\n",
      "Nationality: PAK\n"
     ]
    }
   ],
   "source": [
    "Teacher(\"Muhammad Qasim\",\"BSCS\",\"PAK\")"
   ]
  },
  {
   "cell_type": "code",
   "execution_count": 10,
   "metadata": {},
   "outputs": [
    {
     "name": "stdout",
     "output_type": "stream",
     "text": [
      "Muhammad Qasim\n"
     ]
    }
   ],
   "source": [
    "def fullName1(fname, lname): # function define argument\n",
    "    print(fname+\" \"+lname)\n",
    "    \n",
    "fullName1(\"Muhammad\",\"Qasim\") # function calling parameters"
   ]
  },
  {
   "cell_type": "code",
   "execution_count": 11,
   "metadata": {},
   "outputs": [
    {
     "name": "stdout",
     "output_type": "stream",
     "text": [
      "Muhammad Qasim\n",
      "None\n"
     ]
    }
   ],
   "source": [
    "fullName = fullName1(\"Muhammad\",\"Qasim\")\n",
    "print(fullName)"
   ]
  },
  {
   "cell_type": "markdown",
   "metadata": {},
   "source": [
    "Return Function"
   ]
  },
  {
   "cell_type": "code",
   "execution_count": 12,
   "metadata": {},
   "outputs": [
    {
     "name": "stdout",
     "output_type": "stream",
     "text": [
      "Muhammad Qasim\n"
     ]
    }
   ],
   "source": [
    "def fullName1(fname, lname): # function define argument\n",
    "    return fname+\" \"+lname\n",
    "    \n",
    "x=fullName1(\"Muhammad\",\"Qasim\") # function calling parameters\n",
    "print(x)"
   ]
  },
  {
   "cell_type": "code",
   "execution_count": 13,
   "metadata": {},
   "outputs": [
    {
     "data": {
      "text/plain": [
       "'Muhammad Osama'"
      ]
     },
     "execution_count": 13,
     "metadata": {},
     "output_type": "execute_result"
    }
   ],
   "source": [
    "fullName1('Muhammad','Osama')"
   ]
  },
  {
   "cell_type": "code",
   "execution_count": 14,
   "metadata": {},
   "outputs": [
    {
     "data": {
      "text/plain": [
       "'Muhammad Osama'"
      ]
     },
     "execution_count": 14,
     "metadata": {},
     "output_type": "execute_result"
    }
   ],
   "source": [
    "fullName1('Muhammad','Osama')"
   ]
  },
  {
   "cell_type": "code",
   "execution_count": 15,
   "metadata": {},
   "outputs": [
    {
     "ename": "TypeError",
     "evalue": "fullName1() missing 1 required positional argument: 'lname'",
     "output_type": "error",
     "traceback": [
      "\u001b[1;31m---------------------------------------------------------------------------\u001b[0m",
      "\u001b[1;31mTypeError\u001b[0m                                 Traceback (most recent call last)",
      "\u001b[1;32m<ipython-input-15-782484337836>\u001b[0m in \u001b[0;36m<module>\u001b[1;34m()\u001b[0m\n\u001b[1;32m----> 1\u001b[1;33m \u001b[0mfullName1\u001b[0m\u001b[1;33m(\u001b[0m\u001b[1;34m'Qasim'\u001b[0m\u001b[1;33m)\u001b[0m\u001b[1;33m\u001b[0m\u001b[0m\n\u001b[0m",
      "\u001b[1;31mTypeError\u001b[0m: fullName1() missing 1 required positional argument: 'lname'"
     ]
    }
   ],
   "source": [
    "fullName1('Qasim')"
   ]
  },
  {
   "cell_type": "markdown",
   "metadata": {},
   "source": [
    "### With Optional Arguments"
   ]
  },
  {
   "cell_type": "code",
   "execution_count": 16,
   "metadata": {},
   "outputs": [
    {
     "name": "stdout",
     "output_type": "stream",
     "text": [
      "FullName: Muhammad Qasim Contact: 03##-#######\n",
      "FullName: Muhammad Ahmed Contact: 0345-2571358\n"
     ]
    }
   ],
   "source": [
    "def Info(fname,lname,contact=\"03##-#######\"):\n",
    "    return \"FullName: \"+fname+\" \"+lname+' Contact: '+contact\n",
    "\n",
    "print(Info(\"Muhammad\",\"Qasim\"))\n",
    "print(Info(\"Muhammad\",\"Ahmed\",\"0345-2571358\"))"
   ]
  },
  {
   "cell_type": "code",
   "execution_count": 17,
   "metadata": {},
   "outputs": [
    {
     "name": "stdout",
     "output_type": "stream",
     "text": [
      "a c b\n"
     ]
    }
   ],
   "source": [
    "def abc():\n",
    "    return 'a','b','c'\n",
    "\n",
    "x,y,z=abc()\n",
    "print(x,z,y)"
   ]
  },
  {
   "cell_type": "markdown",
   "metadata": {},
   "source": [
    "### Call Function with postional Arguments"
   ]
  },
  {
   "cell_type": "code",
   "execution_count": 18,
   "metadata": {},
   "outputs": [
    {
     "data": {
      "text/plain": [
       "'FullName: Muhammad Qasim Contact: 315-2968211'"
      ]
     },
     "execution_count": 18,
     "metadata": {},
     "output_type": "execute_result"
    }
   ],
   "source": [
    "Info(\"Muhammad\",\"Qasim\",\"315-2968211\")"
   ]
  },
  {
   "cell_type": "code",
   "execution_count": 19,
   "metadata": {},
   "outputs": [
    {
     "data": {
      "text/plain": [
       "'FullName: Qasim Muhammad Contact: 03##-#######'"
      ]
     },
     "execution_count": 19,
     "metadata": {},
     "output_type": "execute_result"
    }
   ],
   "source": [
    "Info(\"Qasim\",'Muhammad')"
   ]
  },
  {
   "cell_type": "markdown",
   "metadata": {},
   "source": [
    "### KeyWord Argument"
   ]
  },
  {
   "cell_type": "code",
   "execution_count": 20,
   "metadata": {},
   "outputs": [
    {
     "data": {
      "text/plain": [
       "'FullName: Muhammad Qasim Contact: 0315-1234567'"
      ]
     },
     "execution_count": 20,
     "metadata": {},
     "output_type": "execute_result"
    }
   ],
   "source": [
    "Info(contact=\"0315-1234567\",fname=\"Muhammad\", lname=\"Qasim\")"
   ]
  },
  {
   "cell_type": "code",
   "execution_count": 21,
   "metadata": {},
   "outputs": [
    {
     "ename": "TypeError",
     "evalue": "Info() got an unexpected keyword argument 'con'",
     "output_type": "error",
     "traceback": [
      "\u001b[1;31m---------------------------------------------------------------------------\u001b[0m",
      "\u001b[1;31mTypeError\u001b[0m                                 Traceback (most recent call last)",
      "\u001b[1;32m<ipython-input-21-dd5b29fead09>\u001b[0m in \u001b[0;36m<module>\u001b[1;34m()\u001b[0m\n\u001b[1;32m----> 1\u001b[1;33m \u001b[0mInfo\u001b[0m\u001b[1;33m(\u001b[0m\u001b[0mcon\u001b[0m\u001b[1;33m=\u001b[0m\u001b[1;34m\"0315-1234567\"\u001b[0m\u001b[1;33m,\u001b[0m\u001b[0mfname\u001b[0m\u001b[1;33m=\u001b[0m\u001b[1;34m\"Muhammad\"\u001b[0m\u001b[1;33m,\u001b[0m \u001b[0mlname\u001b[0m\u001b[1;33m=\u001b[0m\u001b[1;34m\"Qasim\"\u001b[0m\u001b[1;33m)\u001b[0m\u001b[1;33m\u001b[0m\u001b[0m\n\u001b[0m",
      "\u001b[1;31mTypeError\u001b[0m: Info() got an unexpected keyword argument 'con'"
     ]
    }
   ],
   "source": [
    "Info(con=\"0315-1234567\",fname=\"Muhammad\", lname=\"Qasim\")"
   ]
  },
  {
   "cell_type": "markdown",
   "metadata": {},
   "source": [
    "### Provide Argument values with list"
   ]
  },
  {
   "cell_type": "code",
   "execution_count": 22,
   "metadata": {},
   "outputs": [
    {
     "name": "stdout",
     "output_type": "stream",
     "text": [
      "FullName: Muhammd Qasim Contact: 0345-1234567\n"
     ]
    }
   ],
   "source": [
    "abc =['Muhammd','Qasim','0345-1234567']\n",
    "\n",
    "\n",
    "print(Info(abc[0],abc[1],abc[2]))\n"
   ]
  },
  {
   "cell_type": "code",
   "execution_count": 23,
   "metadata": {},
   "outputs": [
    {
     "data": {
      "text/plain": [
       "'FullName: Muhammd Qasim Contact: 0345-1234567'"
      ]
     },
     "execution_count": 23,
     "metadata": {},
     "output_type": "execute_result"
    }
   ],
   "source": [
    "Info(*abc)"
   ]
  },
  {
   "cell_type": "code",
   "execution_count": 24,
   "metadata": {},
   "outputs": [
    {
     "ename": "SyntaxError",
     "evalue": "can't use starred expression here (<ipython-input-24-9c8daeef2410>, line 1)",
     "output_type": "error",
     "traceback": [
      "\u001b[1;36m  File \u001b[1;32m\"<ipython-input-24-9c8daeef2410>\"\u001b[1;36m, line \u001b[1;32m1\u001b[0m\n\u001b[1;33m    *abc\u001b[0m\n\u001b[1;37m        ^\u001b[0m\n\u001b[1;31mSyntaxError\u001b[0m\u001b[1;31m:\u001b[0m can't use starred expression here\n"
     ]
    }
   ],
   "source": [
    "*abc"
   ]
  },
  {
   "cell_type": "code",
   "execution_count": 26,
   "metadata": {},
   "outputs": [
    {
     "data": {
      "text/plain": [
       "['abc', 2, 3]"
      ]
     },
     "execution_count": 26,
     "metadata": {},
     "output_type": "execute_result"
    }
   ],
   "source": [
    "l=[1,2,3]\n",
    "\n",
    "def aa():\n",
    "    l[0]='abc'\n",
    "    \n",
    "aa()"
   ]
  },
  {
   "cell_type": "code",
   "execution_count": 36,
   "metadata": {},
   "outputs": [
    {
     "name": "stdout",
     "output_type": "stream",
     "text": [
      "my name is isfhan ahmedmy age is 21my education isdropout\n"
     ]
    }
   ],
   "source": [
    "l={\"name\":\"isfhan ahmed\",\"age\":21,\"edu\":\"dropout\"}\n",
    "def myfun(name,age,edu):\n",
    "    print(\"my name is \"+name+\"my age is \"+str(age)+\"my education is\"+edu)\n",
    "    \n",
    "myfun(**l)"
   ]
  },
  {
   "cell_type": "markdown",
   "metadata": {},
   "source": [
    "### Provide Argument Key values with Dictionary"
   ]
  },
  {
   "cell_type": "code",
   "execution_count": 37,
   "metadata": {},
   "outputs": [
    {
     "data": {
      "text/plain": [
       "'FullName: Muhammad Qasim Contact: 0315-2968211'"
      ]
     },
     "execution_count": 37,
     "metadata": {},
     "output_type": "execute_result"
    }
   ],
   "source": [
    "xyz = {'contact':'0315-2968211',\n",
    "      'fname':'Muhammad',\n",
    "      'lname':'Qasim'}\n",
    "Info(xyz['fname'], xyz['lname'], xyz['contact'])"
   ]
  },
  {
   "cell_type": "code",
   "execution_count": 38,
   "metadata": {},
   "outputs": [
    {
     "data": {
      "text/plain": [
       "'FullName: Muhammad Qasim Contact: 0315-2968211'"
      ]
     },
     "execution_count": 38,
     "metadata": {},
     "output_type": "execute_result"
    }
   ],
   "source": [
    "Info(**xyz)"
   ]
  },
  {
   "cell_type": "code",
   "execution_count": 39,
   "metadata": {},
   "outputs": [
    {
     "data": {
      "text/plain": [
       "'FullName: Muhammad Qasim Contact: 0315-1234567'"
      ]
     },
     "execution_count": 39,
     "metadata": {},
     "output_type": "execute_result"
    }
   ],
   "source": [
    "Info(fname=\"Muhammad\", lname=\"Qasim\",contact='0315-1234567')"
   ]
  },
  {
   "cell_type": "code",
   "execution_count": 41,
   "metadata": {},
   "outputs": [],
   "source": [
    "def xyz():\n",
    "    pass\n",
    "\n",
    "xyz()"
   ]
  },
  {
   "cell_type": "markdown",
   "metadata": {},
   "source": [
    "# Loop\n",
    "    - for\n",
    "    - while\n",
    "    - do while"
   ]
  },
  {
   "cell_type": "markdown",
   "metadata": {},
   "source": [
    "Repitation of statments or statment\n",
    "- counter\n",
    "- control\n",
    "- increament or Decreament\n",
    "    - pass (ignore Logic Block)\n",
    "    - countiune (skip if true)\n",
    "    - Break (stop if True)"
   ]
  },
  {
   "cell_type": "code",
   "execution_count": null,
   "metadata": {},
   "outputs": [],
   "source": [
    "# Repitation of statments\n",
    "print('Pakistan zinda bad')\n",
    "print('Pakistan zinda bad')\n",
    "print('Pakistan zinda bad')"
   ]
  },
  {
   "cell_type": "code",
   "execution_count": 42,
   "metadata": {},
   "outputs": [
    {
     "name": "stdout",
     "output_type": "stream",
     "text": [
      "Pakistan zinda bad 5\n",
      "Pakistan zinda bad 6\n",
      "Pakistan zinda bad 7\n",
      "Pakistan zinda bad 8\n",
      "Pakistan zinda bad 9\n",
      "Pakistan zinda bad 10\n"
     ]
    }
   ],
   "source": [
    "# While Loop\n",
    "i=5 #counter\n",
    "while(i<=10): #Controller/Logic\n",
    "    print(\"Pakistan zinda bad\",i)\n",
    "    i+=1 #Increment/Decreament\n",
    "    "
   ]
  },
  {
   "cell_type": "code",
   "execution_count": 49,
   "metadata": {},
   "outputs": [
    {
     "name": "stdout",
     "output_type": "stream",
     "text": [
      "pAKISTAN 5\n",
      "pAKISTAN 6\n",
      "pAKISTAN 7\n",
      "pAKISTAN 8\n",
      "pAKISTAN 9\n",
      "pAKISTAN 10\n"
     ]
    }
   ],
   "source": [
    "for i in list(range(5,100)):\n",
    "    print('pAKISTAN {0}'.format(i))\n",
    "    if i==10:\n",
    "        break"
   ]
  },
  {
   "cell_type": "code",
   "execution_count": 50,
   "metadata": {},
   "outputs": [
    {
     "name": "stdout",
     "output_type": "stream",
     "text": [
      "pAKISTAN 0\n",
      "pAKISTAN 1\n",
      "pAKISTAN 2\n",
      "pAKISTAN 3\n",
      "pAKISTAN 4\n",
      "pAKISTAN 6\n",
      "pAKISTAN 7\n",
      "pAKISTAN 8\n",
      "pAKISTAN 9\n"
     ]
    }
   ],
   "source": [
    "for i in list(range(10)):\n",
    "    if i==5:\n",
    "        continue\n",
    "    print('pAKISTAN',i)"
   ]
  },
  {
   "cell_type": "code",
   "execution_count": 51,
   "metadata": {},
   "outputs": [
    {
     "name": "stdout",
     "output_type": "stream",
     "text": [
      "pAKISTAN 0\n",
      "pAKISTAN 1\n",
      "pAKISTAN 2\n",
      "pAKISTAN 3\n",
      "pAKISTAN 4\n"
     ]
    }
   ],
   "source": [
    "for i in list(range(10)):\n",
    "    if i==5:\n",
    "        break\n",
    "    print('pAKISTAN',i)"
   ]
  },
  {
   "cell_type": "code",
   "execution_count": 52,
   "metadata": {},
   "outputs": [
    {
     "name": "stdout",
     "output_type": "stream",
     "text": [
      "pAKISTAN 0\n",
      "pAKISTAN 1\n",
      "pAKISTAN 2\n",
      "pAKISTAN 3\n",
      "pAKISTAN 4\n",
      "pAKISTAN 5\n",
      "pAKISTAN 6\n",
      "pAKISTAN 7\n",
      "pAKISTAN 8\n",
      "pAKISTAN 9\n"
     ]
    }
   ],
   "source": [
    "for i in list(range(10)):\n",
    "    if i==5:\n",
    "        pass\n",
    "    print('pAKISTAN',i)"
   ]
  },
  {
   "cell_type": "code",
   "execution_count": 54,
   "metadata": {},
   "outputs": [
    {
     "name": "stdout",
     "output_type": "stream",
     "text": [
      "Qasim\n",
      "Ahmed\n",
      "Minhal\n",
      "Arsalan\n",
      "Shahryar\n"
     ]
    }
   ],
   "source": [
    "names = ['Qasim','Ahmed','Minhal','Arsalan','Shahryar']\n",
    "\n",
    "i=0\n",
    "while(i<len(names)):\n",
    "    print(names[i])\n",
    "    i+=1"
   ]
  },
  {
   "cell_type": "code",
   "execution_count": 55,
   "metadata": {},
   "outputs": [
    {
     "name": "stdout",
     "output_type": "stream",
     "text": [
      "Qasim\n",
      "Ahmed\n",
      "Minhal\n",
      "Arsalan\n",
      "Shahryar\n"
     ]
    }
   ],
   "source": [
    "for name in names:\n",
    "    print(name)"
   ]
  },
  {
   "cell_type": "code",
   "execution_count": 56,
   "metadata": {},
   "outputs": [
    {
     "name": "stdout",
     "output_type": "stream",
     "text": [
      "0 Qasim\n",
      "1 Ahmed\n",
      "2 Minhal\n",
      "3 Arsalan\n",
      "4 Shahryar\n"
     ]
    }
   ],
   "source": [
    "for k,name in enumerate(names):\n",
    "    print(k,name)"
   ]
  },
  {
   "cell_type": "code",
   "execution_count": 57,
   "metadata": {},
   "outputs": [
    {
     "data": {
      "text/plain": [
       "dict_items([('contact', '0315-2968211'), ('fname', 'Muhammad'), ('lname', 'Qasim')])"
      ]
     },
     "execution_count": 57,
     "metadata": {},
     "output_type": "execute_result"
    }
   ],
   "source": [
    "xyz = {'contact':'0315-2968211',\n",
    "      'fname':'Muhammad',\n",
    "      'lname':'Qasim'}\n",
    "xyz.items()"
   ]
  },
  {
   "cell_type": "code",
   "execution_count": 58,
   "metadata": {},
   "outputs": [
    {
     "data": {
      "text/plain": [
       "dict_keys(['contact', 'fname', 'lname'])"
      ]
     },
     "execution_count": 58,
     "metadata": {},
     "output_type": "execute_result"
    }
   ],
   "source": [
    "xyz.keys()"
   ]
  },
  {
   "cell_type": "code",
   "execution_count": 59,
   "metadata": {},
   "outputs": [
    {
     "data": {
      "text/plain": [
       "dict_values(['0315-2968211', 'Muhammad', 'Qasim'])"
      ]
     },
     "execution_count": 59,
     "metadata": {},
     "output_type": "execute_result"
    }
   ],
   "source": [
    "xyz.values()"
   ]
  },
  {
   "cell_type": "code",
   "execution_count": 60,
   "metadata": {},
   "outputs": [
    {
     "name": "stdout",
     "output_type": "stream",
     "text": [
      "a b\n"
     ]
    }
   ],
   "source": [
    "l=['a','b']\n",
    "x, z = l\n",
    "print(x,z)"
   ]
  },
  {
   "cell_type": "code",
   "execution_count": 61,
   "metadata": {},
   "outputs": [
    {
     "name": "stdout",
     "output_type": "stream",
     "text": [
      "Keys is: contact  Value is:  0315-2968211\n",
      "Keys is: fname  Value is:  Muhammad\n",
      "Keys is: lname  Value is:  Qasim\n"
     ]
    }
   ],
   "source": [
    "for k,v in xyz.items():\n",
    "    print(\"Keys is:\",k,\" Value is: \",v)"
   ]
  },
  {
   "cell_type": "code",
   "execution_count": 62,
   "metadata": {},
   "outputs": [
    {
     "data": {
      "text/plain": [
       "['Qasim', 'Ahmed', 'Minhal', 'Arsalan', 'Shahryar']"
      ]
     },
     "execution_count": 62,
     "metadata": {},
     "output_type": "execute_result"
    }
   ],
   "source": [
    "names"
   ]
  },
  {
   "cell_type": "code",
   "execution_count": 63,
   "metadata": {},
   "outputs": [
    {
     "data": {
      "text/plain": [
       "True"
      ]
     },
     "execution_count": 63,
     "metadata": {},
     "output_type": "execute_result"
    }
   ],
   "source": [
    "'Arsalan' in names"
   ]
  },
  {
   "cell_type": "code",
   "execution_count": 64,
   "metadata": {},
   "outputs": [
    {
     "name": "stdout",
     "output_type": "stream",
     "text": [
      "Arsalan\n"
     ]
    }
   ],
   "source": [
    "i=0\n",
    "while(i<=4):\n",
    "    if names[i]=='Arsalan':\n",
    "        print(names[i])\n",
    "    i+=1"
   ]
  },
  {
   "cell_type": "code",
   "execution_count": 65,
   "metadata": {},
   "outputs": [
    {
     "name": "stdout",
     "output_type": "stream",
     "text": [
      "Enter Your Namepakistan zinda bad\n",
      "pakistan zinda bad\n"
     ]
    }
   ],
   "source": [
    "x=input(\"Enter Your Name\")\n",
    "print(x)"
   ]
  },
  {
   "cell_type": "code",
   "execution_count": 66,
   "metadata": {},
   "outputs": [
    {
     "name": "stdout",
     "output_type": "stream",
     "text": [
      "Enter Student Name | 'q' for quit qasim\n",
      "Enter Student Name | 'q' for quit asif\n",
      "Enter Student Name | 'q' for quit abic\n",
      "Enter Student Name | 'q' for quit ali\n",
      "Enter Student Name | 'q' for quit q\n",
      "qasim\n",
      "asif\n",
      "abic\n",
      "ali\n"
     ]
    }
   ],
   "source": [
    "names=[]\n",
    "x=input(\"Enter Student Name | 'q' for quit \")\n",
    "while(x!='q'):\n",
    "    names.append(x)\n",
    "    x=input(\"Enter Student Name | 'q' for quit \")\n",
    "    if x=='q':\n",
    "        for name in names:\n",
    "            print(name)"
   ]
  },
  {
   "cell_type": "code",
   "execution_count": 67,
   "metadata": {},
   "outputs": [
    {
     "name": "stdout",
     "output_type": "stream",
     "text": [
      "1 less than five\n",
      "2 less than five\n",
      "3 less than five\n",
      "4 less than five\n",
      "No\n"
     ]
    }
   ],
   "source": [
    "count = 1\n",
    "while count < 5:\n",
    "    print(count,\"less than five\")\n",
    "    count +=1\n",
    "else:\n",
    "    print(\"No\")"
   ]
  },
  {
   "cell_type": "code",
   "execution_count": null,
   "metadata": {},
   "outputs": [],
   "source": [
    "i = 1\n",
    "do{\n",
    "    print(i)\n",
    "    i +=1\n",
    "}while(i<5)"
   ]
  },
  {
   "cell_type": "code",
   "execution_count": 68,
   "metadata": {},
   "outputs": [
    {
     "data": {
      "text/plain": [
       "19"
      ]
     },
     "execution_count": 68,
     "metadata": {},
     "output_type": "execute_result"
    }
   ],
   "source": [
    "def abc(*num):\n",
    "    total=0\n",
    "    for i in num:\n",
    "        total +=i\n",
    "    return total\n",
    "\n",
    "abc(2,8,9,0)"
   ]
  },
  {
   "cell_type": "code",
   "execution_count": 69,
   "metadata": {},
   "outputs": [
    {
     "name": "stdout",
     "output_type": "stream",
     "text": [
      "name Qasim\n",
      "cont lkjadlsjdflkj\n"
     ]
    }
   ],
   "source": [
    "def abc(**dic):\n",
    "    for k,v in dic.items():\n",
    "        print(k,v)\n",
    "        \n",
    "abc(name='Qasim',cont='lkjadlsjdflkj')"
   ]
  },
  {
   "cell_type": "code",
   "execution_count": null,
   "metadata": {},
   "outputs": [],
   "source": []
  }
 ],
 "metadata": {
  "kernelspec": {
   "display_name": "Python 3",
   "language": "python",
   "name": "python3"
  },
  "language_info": {
   "codemirror_mode": {
    "name": "ipython",
    "version": 3
   },
   "file_extension": ".py",
   "mimetype": "text/x-python",
   "name": "python",
   "nbconvert_exporter": "python",
   "pygments_lexer": "ipython3",
   "version": "3.6.4"
  }
 },
 "nbformat": 4,
 "nbformat_minor": 2
}
